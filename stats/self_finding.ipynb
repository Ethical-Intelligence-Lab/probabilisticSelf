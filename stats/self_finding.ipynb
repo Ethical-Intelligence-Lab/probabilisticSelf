{
 "cells": [
  {
   "cell_type": "code",
   "execution_count": 59,
   "metadata": {},
   "outputs": [
    {
     "name": "stdout",
     "output_type": "stream",
     "text": [
      "The autoreload extension is already loaded. To reload it, use:\n",
      "  %reload_ext autoreload\n"
     ]
    }
   ],
   "source": [
    "import os\n",
    "%load_ext autoreload\n",
    "%autoreload 2\n",
    "import pandas as pd\n",
    "%matplotlib inline\n",
    "import matplotlib.pyplot as plt\n",
    "import glob\n",
    "import math\n",
    "import json\n",
    "import numpy as np\n",
    "from matplotlib.ticker import MaxNLocator\n",
    "from os.path import exists\n",
    "import pickle\n",
    "from scipy.stats import sem\n",
    "import statistics\n",
    "import scipy\n",
    "from sklearn.metrics import mean_squared_error\n",
    "from kneed import KneeLocator\n",
    "import copy"
   ]
  },
  {
   "cell_type": "code",
   "execution_count": 60,
   "metadata": {},
   "outputs": [],
   "source": [
    "##### Save self finding steps in contingency game for each level #####\n",
    "\n",
    "## Get no-movement action count of agent for each level\n",
    "def get_self_finding_steps(game_type):\n",
    "    files = glob.glob(\"../data/\" + game_type + \"/data_sf/*.json\")\n",
    "\n",
    "    lvl_count = 53 if 'change_agent_game' in game_type else 100\n",
    "\n",
    "    if 'change_agent_game' in game_type:\n",
    "        all_levels = {'steps': [], 'self_finding_steps': [], 'prop_selected_correctly': [], 'participant': [], 'level': []}\n",
    "    else:\n",
    "        all_levels = {'steps': [], 'self_finding_steps': [], 'participant': [], 'level': []}\n",
    "    for i, file in enumerate(files):  # Get the data for each participant in that level\n",
    "        print(file)\n",
    "        data = json.load(open(file))\n",
    "\n",
    "        for level in range(0, lvl_count):  # Data for each level\n",
    "            selected_agents = data.get(\"selectedAgents\")\n",
    "\n",
    "            # Correctly clicked agents in a level\n",
    "            correct_sf_level = [d for d in selected_agents if d['level'] == level and d['real_self'] == d['clicked_self']]\n",
    "\n",
    "            if 'change_agent_game' in game_type:\n",
    "                # Clicked agents in a level (regardless of whether they are correct or not)\n",
    "                level_clicks = [d for d in selected_agents if d['level'] == level]\n",
    "                if len(level_clicks) >= 1:\n",
    "                    avg_sf_steps = []\n",
    "                    clicks_clean = copy.deepcopy(level_clicks)\n",
    "\n",
    "                    last_click_emb = None\n",
    "                    last_click = None\n",
    "                    for click in level_clicks:\n",
    "                        if len(clicks_clean) == 1:\n",
    "                            break\n",
    "\n",
    "                        if last_click_emb is None:\n",
    "                            last_click_emb = math.floor(click['step'] / 7)\n",
    "                        else:\n",
    "                            if math.floor(click['step'] / 7) == last_click_emb:\n",
    "                                # Remove the one before (one with lower step)\n",
    "                                clicks_clean.remove(last_click)\n",
    "                            last_click_emb = math.floor(click['step'] / 7)\n",
    "                        \n",
    "                        last_click = click\n",
    "\n",
    "                    \n",
    "                    avg_sf_steps = [c['step'] % 7 if c['real_self'] == c['clicked_self'] else 7 for c in clicks_clean]\n",
    "                    all_levels['self_finding_steps'].append(statistics.mean(avg_sf_steps) if len(avg_sf_steps) > 0 else None)\n",
    "                    all_levels['prop_selected_correctly'].append(statistics.mean([d['real_self'] == d['clicked_self'] for d in clicks_clean]) if len(clicks_clean) > 0 else None)\n",
    "                    all_levels['steps'].append(data['data']['steps'][level])\n",
    "                else:\n",
    "                    all_levels['self_finding_steps'].append(None)\n",
    "                    all_levels['prop_selected_correctly'].append(None)\n",
    "                    all_levels['steps'].append(data['data']['steps'][level])\n",
    "            else:\n",
    "                if len(correct_sf_level) == 1:  # Clicked the correct agent in a level\n",
    "                    all_levels['steps'].append(data['data']['steps'][level])\n",
    "                    all_levels['self_finding_steps'].append(correct_sf_level[0]['step'])\n",
    "                else:  # Did not click the correct agent in a level\n",
    "                    all_levels['steps'].append(data['data']['steps'][level])\n",
    "                    all_levels['self_finding_steps'].append(None)\n",
    "            \n",
    "            all_levels['participant'].append(i)\n",
    "            all_levels['level'].append(level)\n",
    "\n",
    "    df = pd.DataFrame(all_levels)\n",
    "    df.to_csv('../stats/self_orienting_{}.csv'.format(game_type))"
   ]
  },
  {
   "cell_type": "code",
   "execution_count": 61,
   "metadata": {},
   "outputs": [
    {
     "name": "stdout",
     "output_type": "stream",
     "text": [
      "../data/change_agent_game/data_sf/A1SN7EOZUW5VP3_2023-04-28=14:36:47.json\n",
      "../data/change_agent_game/data_sf/A10HW8JXM17XLD_2023-04-28=15:13:48.json\n",
      "../data/change_agent_game/data_sf/A2Y7L7R5UTQ5R2_2023-04-28=16:14:59.json\n",
      "../data/change_agent_game/data_sf/A2620VELR4LMLU_2023-04-28=17:01:01.json\n",
      "../data/change_agent_game/data_sf/A1GGBLQXMJP6YU_2023-04-28=15:40:08.json\n",
      "../data/change_agent_game/data_sf/A334VWE4QGAZFR_2023-04-28=18:22:34.json\n",
      "../data/change_agent_game/data_sf/A3AHD1NV5XCOF_2023-04-28=17:24:44.json\n",
      "../data/change_agent_game/data_sf/A1OFFNJXVHVI64_2023-04-28=19:28:59.json\n",
      "../data/change_agent_game/data_sf/A3O3NJQ5AUXUVV_2023-04-28=18:21:59.json\n",
      "../data/change_agent_game/data_sf/AIHHRINW9IN1I_2023-04-28=15:13:49.json\n",
      "../data/change_agent_game/data_sf/A1J7GK3Z74R4HU_2023-04-28=16:40:08.json\n",
      "../data/change_agent_game/data_sf/A13T1T1VPOCMD3_2023-04-28=18:02:03.json\n",
      "../data/change_agent_game/data_sf/A80WPJSYIU9LT_2023-04-28=17:47:04.json\n",
      "../data/change_agent_game/data_sf/A1PRZC0JL283H7_2023-04-28=17:21:16.json\n",
      "../data/change_agent_game/data_sf/A2ZW43854D67J7_2023-04-28=14:52:01.json\n",
      "../data/change_agent_game/data_sf/AIEKCWYZTS41V_2023-04-28=14:38:14.json\n",
      "../data/change_agent_game/data_sf/A3LZRYFUO1S66Z_2023-04-28=16:31:00.json\n",
      "../data/change_agent_game/data_sf/A2V27A9GZA1NR2_2023-04-28=14:43:10.json\n",
      "../data/change_agent_game/data_sf/A12Q4BP1S02YWS_2023-04-28=15:13:23.json\n"
     ]
    }
   ],
   "source": [
    "for game in [\"change_agent_game\"]: #\"contingency_game\", \"contingency_game_shuffled_1\", \n",
    "    get_self_finding_steps(game)"
   ]
  },
  {
   "cell_type": "code",
   "execution_count": 5,
   "metadata": {},
   "outputs": [],
   "source": [
    "# Read all keep_close control prop data, average it and save it in a csv file\n",
    "files = glob.glob(\"../data/change_agent_game_harder/keep_close_control_prop/*.json\")\n",
    "\n",
    "all_data = {i: [] for i in range(0, 54)}\n",
    "for i, file in enumerate(files):  # Get the data for each participant in that level\n",
    "    data = json.load(open(file))\n",
    "\n",
    "    for lvl in data.keys():\n",
    "        all_data[int(lvl)].append(data[lvl])\n",
    "\n",
    "# Average the data\n",
    "avg_data = {lvl: statistics.mean(all_data[lvl]) for lvl in all_data.keys()}\n",
    "\n",
    "# Save the data in a csv file\n",
    "df = pd.DataFrame({'level': avg_data.keys(), 'keep_close_control_prop': avg_data.values()})\n",
    "df.to_csv('../stats/keep_close_control_prop.csv')"
   ]
  }
 ],
 "metadata": {
  "kernelspec": {
   "display_name": "Python 3",
   "language": "python",
   "name": "python3"
  },
  "language_info": {
   "codemirror_mode": {
    "name": "ipython",
    "version": 3
   },
   "file_extension": ".py",
   "mimetype": "text/x-python",
   "name": "python",
   "nbconvert_exporter": "python",
   "pygments_lexer": "ipython3",
   "version": "3.10.11"
  },
  "orig_nbformat": 4
 },
 "nbformat": 4,
 "nbformat_minor": 2
}
