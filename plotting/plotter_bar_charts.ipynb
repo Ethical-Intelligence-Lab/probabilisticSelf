{
 "cells": [
  {
   "cell_type": "code",
   "execution_count": 1,
   "metadata": {
    "pycharm": {
     "name": "#%%\n"
    }
   },
   "outputs": [
    {
     "name": "stderr",
     "output_type": "stream",
     "text": [
      "\n",
      "Bad key savefig.frameon in file /Users/kaan/opt/anaconda3/envs/prob_self_2/lib/python3.6/site-packages/matplotlib/mpl-data/stylelib/_classic_test.mplstyle, line 421 ('savefig.frameon : True')\n",
      "You probably need to get an updated matplotlibrc file from\n",
      "https://github.com/matplotlib/matplotlib/blob/v3.3.2/matplotlibrc.template\n",
      "or from the matplotlib source distribution\n",
      "\n",
      "Bad key verbose.level in file /Users/kaan/opt/anaconda3/envs/prob_self_2/lib/python3.6/site-packages/matplotlib/mpl-data/stylelib/_classic_test.mplstyle, line 472 ('verbose.level  : silent      # one of silent, helpful, debug, debug-annoying')\n",
      "You probably need to get an updated matplotlibrc file from\n",
      "https://github.com/matplotlib/matplotlib/blob/v3.3.2/matplotlibrc.template\n",
      "or from the matplotlib source distribution\n",
      "\n",
      "Bad key verbose.fileo in file /Users/kaan/opt/anaconda3/envs/prob_self_2/lib/python3.6/site-packages/matplotlib/mpl-data/stylelib/_classic_test.mplstyle, line 473 ('verbose.fileo  : sys.stdout  # a log filename, sys.stdout or sys.stderr')\n",
      "You probably need to get an updated matplotlibrc file from\n",
      "https://github.com/matplotlib/matplotlib/blob/v3.3.2/matplotlibrc.template\n",
      "or from the matplotlib source distribution\n",
      "In /Users/kaan/opt/anaconda3/envs/prob_self_2/lib/python3.6/site-packages/matplotlib/mpl-data/stylelib/_classic_test.mplstyle: \n",
      "The text.latex.preview rcparam was deprecated in Matplotlib 3.3 and will be removed two minor releases later.\n",
      "In /Users/kaan/opt/anaconda3/envs/prob_self_2/lib/python3.6/site-packages/matplotlib/mpl-data/stylelib/_classic_test.mplstyle: \n",
      "The mathtext.fallback_to_cm rcparam was deprecated in Matplotlib 3.3 and will be removed two minor releases later.\n",
      "In /Users/kaan/opt/anaconda3/envs/prob_self_2/lib/python3.6/site-packages/matplotlib/mpl-data/stylelib/_classic_test.mplstyle: Support for setting the 'mathtext.fallback_to_cm' rcParam is deprecated since 3.3 and will be removed two minor releases later; use 'mathtext.fallback : 'cm' instead.\n",
      "In /Users/kaan/opt/anaconda3/envs/prob_self_2/lib/python3.6/site-packages/matplotlib/mpl-data/stylelib/_classic_test.mplstyle: \n",
      "The validate_bool_maybe_none function was deprecated in Matplotlib 3.3 and will be removed two minor releases later.\n",
      "In /Users/kaan/opt/anaconda3/envs/prob_self_2/lib/python3.6/site-packages/matplotlib/mpl-data/stylelib/_classic_test.mplstyle: \n",
      "The savefig.jpeg_quality rcparam was deprecated in Matplotlib 3.3 and will be removed two minor releases later.\n",
      "In /Users/kaan/opt/anaconda3/envs/prob_self_2/lib/python3.6/site-packages/matplotlib/mpl-data/stylelib/_classic_test.mplstyle: \n",
      "The keymap.all_axes rcparam was deprecated in Matplotlib 3.3 and will be removed two minor releases later.\n",
      "In /Users/kaan/opt/anaconda3/envs/prob_self_2/lib/python3.6/site-packages/matplotlib/mpl-data/stylelib/_classic_test.mplstyle: \n",
      "The animation.avconv_path rcparam was deprecated in Matplotlib 3.3 and will be removed two minor releases later.\n",
      "In /Users/kaan/opt/anaconda3/envs/prob_self_2/lib/python3.6/site-packages/matplotlib/mpl-data/stylelib/_classic_test.mplstyle: \n",
      "The animation.avconv_args rcparam was deprecated in Matplotlib 3.3 and will be removed two minor releases later.\n"
     ]
    }
   ],
   "source": [
    "import matplotlib.pyplot as plt\n",
    "import numpy as np\n",
    "import glob\n",
    "import json\n",
    "\n",
    "#  Function to plot interactions with walls and non-self objects.\n",
    "from scipy.stats import stats\n",
    "\n",
    "def plot_all_interactions(game_types, agent_types):\n",
    "    for game in game_types:\n",
    "        plot_interaction(game, agent_types)\n",
    "\n",
    "def plot_interaction(game_type, agent_types):\n",
    "    w_count = []\n",
    "    ns_count = []\n",
    "    w_sem_all = []\n",
    "    ns_sem_all = []\n",
    "    for agent in agent_types:\n",
    "        w, ns, w_sem, ns_sem = get_interaction_counts(game_type, agent)\n",
    "        w_count.append(w)\n",
    "        ns_count.append(ns)\n",
    "        w_sem_all.append(w_sem)\n",
    "        ns_sem_all.append(ns_sem)\n",
    "\n",
    "    # Normalize the counts\n",
    "    normalize(w_count, ns_count, w_sem_all, ns_sem_all)\n",
    "\n",
    "    agent_labels = [\"DQN Training\", \"Human\", \"Random\", \"Self Class\", \"TRPO\", \"A2C\"]\n",
    "    labels = agent_labels\n",
    "    x = np.arange(len(labels))  # the label locations\n",
    "    width = 0.2  # the width of the bars\n",
    "\n",
    "    fig, ax = plt.subplots()\n",
    "    plt.xticks(rotation=90)\n",
    "    wall = ax.bar(x - width/2, w_count, width,  capsize=3, label='Wall', color=\"#00fa9a\") # yerr=w_sem_all,\n",
    "    non_self = ax.bar(x + width/2, ns_count, width, capsize=3, label='Non-self', color=\"#e500fa\") # yerr=ns_sem_all,\n",
    "\n",
    "    # Add some text for labels, title and custom x-axis tick labels, etc.\n",
    "    game_titles = {\n",
    "        \"shuffleKeys_game\": \"Shuffle Keys\",\n",
    "        \"contingency_game\": \"Contingency\",\n",
    "        \"logic_game\": \"Logic\",\n",
    "        \"change_agent_game\": \"Agent Change\"\n",
    "    }\n",
    "\n",
    "    ax.set_ylabel('Interaction Count (Normalized)', fontsize=10)\n",
    "    ax.set_title( \"Interaction Count: \" + game_titles[game_type] + \" Game\", fontweight='bold', fontsize=15 )\n",
    "    ax.set_xticks(x)\n",
    "    ax.set_xticklabels(labels, fontsize=10)\n",
    "    plt.legend(bbox_to_anchor=(1.05, 1.0), loc='upper left')\n",
    "    fig.tight_layout()\n",
    "    \n",
    "    # Hide the right and top spines\n",
    "    ax.spines['right'].set_visible(False)\n",
    "    ax.spines['top'].set_visible(False)\n",
    "\n",
    "    fname = game_type + \"nm_ac.pdf\"\n",
    "    fig.savefig(fname, format='pdf')\n",
    "\n",
    "    plt.show()\n",
    "\n",
    "def get_interaction_counts(game_type, agent_type):\n",
    "    files = glob.glob(\"../data/\" + game_type + \"/\" + agent_type + \"/*.json\")\n",
    "\n",
    "    if len(files) == 0:\n",
    "        files = glob.glob(\"../data/\" + game_type + \"/\" + agent_type + \"/*/*.json\") + glob.glob(\"../data/\" + game_type + \"/\" + agent_type + \"/*.json\")\n",
    "        \n",
    "    w_count = 0\n",
    "    ns_count = 0\n",
    "    w_sem = 0\n",
    "    ns_sem = 0\n",
    "    for file in files:\n",
    "        data = json.load(open(file))\n",
    "        data = data.get(\"data\")\n",
    "        \n",
    "        wall_interactions = data[\"wall_interactions\"]\n",
    "        ns_interactions = data[\"ns_interactions\"]\n",
    "\n",
    "        w_sem += stats.sem(wall_interactions, axis=None, ddof=0)\n",
    "        ns_sem += stats.sem(ns_interactions, axis=None, ddof=0)\n",
    "        w_count += sum(wall_interactions) / len(wall_interactions)\n",
    "        ns_count += sum(ns_interactions) / len(wall_interactions)\n",
    "\n",
    "    return w_count, ns_count, w_sem, ns_sem\n",
    "\n",
    "# normalize wall and non-self counts along with the sem's\n",
    "def normalize(w, ns, w_sem, ns_sem):\n",
    "    for i in range(len(w)):\n",
    "        w_c = w[i]\n",
    "        ns_c = ns[i]\n",
    "        w_sem_c = w_sem[i]\n",
    "        ns_sem_c = ns_sem[i]\n",
    "        sum_c = w_c + ns_c\n",
    "        if sum_c == 0:\n",
    "            continue\n",
    "        w[i] = w_c / sum_c\n",
    "        ns[i] = ns_c / sum_c\n",
    "\n",
    "        w_sem[i] = w_sem_c / sum_c\n",
    "        ns_sem[i] = ns_sem_c / sum_c\n",
    "        "
   ]
  },
  {
   "cell_type": "code",
   "execution_count": 3,
   "metadata": {
    "pycharm": {
     "name": "#%%\n"
    }
   },
   "outputs": [
    {
     "data": {
      "text/plain": "<Figure size 432x288 with 1 Axes>",
      "image/png": "[encoded data removed]"
     },
     "metadata": {
      "needs_background": "light"
     },
     "output_type": "display_data"
    }
   ],
   "source": [
    "game_types = [\"logic_game\"] #, \"contingency_game\", \"shuffleKeys_game\", 'change_agent_game'\n",
    "agent_types = [\"dqn_training\", \"human\", \"random\", \"self_class\", \"trpo_training\", \"a2c_training\"]\n",
    "\n",
    "# Plot interaction frequencies for each game and agent.\n",
    "plot_all_interactions(game_types, agent_types)"
   ]
  },
  {
   "cell_type": "code",
   "execution_count": 4,
   "metadata": {
    "pycharm": {
     "name": "#%%\n"
    }
   },
   "outputs": [],
   "source": [
    "# Function to plot bar chart for total steps.\n",
    "\n",
    "def plot_all_total_steps(game_types, agent_types):\n",
    "    for game in game_types:\n",
    "        plot_total_steps(game, agent_types)\n",
    "\n",
    "def plot_total_steps(game_type, agent_types):\n",
    "    total_mean = []\n",
    "    total_sem = []\n",
    "    for agent in agent_types:\n",
    "        mean, sem = get_mean_and_sem(game_type, agent)\n",
    "        total_mean.append(mean)\n",
    "        total_sem.append(sem)\n",
    "\n",
    "    agent_labels = [\"DQN Training\", \"Human\", \"Random\", \"Self Class\", \"TRPO\", \"A2C\"]\n",
    "    labels = agent_labels\n",
    "    x = np.arange(len(labels))  # the label locations\n",
    "    width = 0.2  # the width of the bars\n",
    "\n",
    "    fig, ax = plt.subplots()\n",
    "    ts = ax.bar(x, total_mean, width=width, color=[\"#03fc9d\", \"#0373fc\", \"#d002f5\", \"#fa0047\", \"#ff8903\", \"#b0b81f\", \"#000000\"], # yerr=total_sem\n",
    "                ecolor='black', capsize=5, alpha=0.5)\n",
    "\n",
    "    # Add some text for labels, title and custom x-axis tick labels, etc.\n",
    "    game_titles = {\n",
    "        \"shuffleKeys_game\": \"Shuffle Keys\",\n",
    "        \"contingency_game\": \"Contingency\",\n",
    "        \"logic_game\": \"Logic\",\n",
    "        \"change_agent_game\": \"Agent Change\"\n",
    "    }\n",
    "    ax.set_ylabel('Average Total Steps')\n",
    "    ax.set_title( \"Total Steps: \" + game_titles[game_type] + \" Game\", fontweight='bold', fontsize=15 )\n",
    "    ax.set_xticks(x)\n",
    "    ax.set_xticklabels(labels)\n",
    "\n",
    "    def autolabel(rects):\n",
    "        \"\"\"Attach a text label above each bar in *rects*, displaying its height.\"\"\"\n",
    "        for rect in rects:\n",
    "            height = rect.get_height()\n",
    "            ax.annotate('{}'.format(height),\n",
    "                        xy=(rect.get_x() + rect.get_width() / 2, height),\n",
    "                        xytext=(0, 3),  # 3 points vertical offset\n",
    "                        textcoords=\"offset points\",\n",
    "                        ha='center', va='bottom')\n",
    "\n",
    "    #autolabel(ts)\n",
    "    \n",
    "    # Hide the right and top spines\n",
    "    ax.spines['right'].set_visible(False)\n",
    "    ax.spines['top'].set_visible(False)\n",
    "    \n",
    "    #plt.figure(num=None, figsize=(12, 9), dpi=80, facecolor='w', edgecolor='k')\n",
    "\n",
    "    fig.tight_layout()\n",
    "    plt.show()\n",
    "\n",
    "    fname = game_type + \"ts.pdf\"\n",
    "    fig.savefig(fname, format='pdf')\n",
    "\n",
    "def get_mean_and_sem(game_type, agent_type):\n",
    "    files = glob.glob(\"../data/\" + game_type + \"/\" + agent_type + \"/*.json\")\n",
    "\n",
    "    if len(files) == 0:\n",
    "        files = glob.glob(\"../data/\" + game_type + \"/\" + agent_type + \"/*/*.json\")\n",
    "\n",
    "    if len(files) == 0:\n",
    "        return 0, 0\n",
    "    count = 0\n",
    "    counts = []\n",
    "    for file in files:\n",
    "        data = json.load(open(file))\n",
    "        data = data.get(\"data\")\n",
    "        step_counts = data[\"steps\"]\n",
    "        count += sum(step_counts)\n",
    "        counts.append( sum(step_counts) )\n",
    "\n",
    "    mean = count / len(files)\n",
    "\n",
    "    sem = stats.sem(counts, axis=None, ddof=0)\n",
    "    return mean, sem"
   ]
  },
  {
   "cell_type": "code",
   "execution_count": 7,
   "metadata": {
    "pycharm": {
     "name": "#%%\n"
    }
   },
   "outputs": [
    {
     "data": {
      "text/plain": "<Figure size 432x288 with 1 Axes>",
      "image/png": "[encoded data removed]"
     },
     "metadata": {
      "needs_background": "light"
     },
     "output_type": "display_data"
    }
   ],
   "source": [
    "game_types = [\"contingency_game\"] # , \"contingency_game\", \"shuffleKeys_game\", \"change_agent_game\"\n",
    "agent_types = [\"dqn_training\", \"human\", \"random\", \"self_class\", \"trpo_training\", \"a2c_training\"]\n",
    "\n",
    "# Plot interaction frequencies for each game and agent.\n",
    "plot_all_total_steps(game_types, agent_types)\n",
    "\n"
   ]
  },
  {
   "cell_type": "code",
   "execution_count": 4,
   "metadata": {},
   "outputs": [],
   "source": []
  }
 ],
 "metadata": {
  "kernelspec": {
   "display_name": "Python 3",
   "language": "python",
   "name": "python3"
  },
  "language_info": {
   "codemirror_mode": {
    "name": "ipython",
    "version": 3
   },
   "file_extension": ".py",
   "mimetype": "text/x-python",
   "name": "python",
   "nbconvert_exporter": "python",
   "pygments_lexer": "ipython3",
   "version": "3.6.12"
  }
 },
 "nbformat": 4,
 "nbformat_minor": 1
}