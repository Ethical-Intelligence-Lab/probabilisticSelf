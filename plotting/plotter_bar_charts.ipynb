{
 "cells": [
  {
   "cell_type": "code",
   "execution_count": 9,
   "metadata": {
    "pycharm": {
     "name": "#%%\n"
    }
   },
   "outputs": [],
   "source": [
    "import os\n",
    "\n",
    "import matplotlib.pyplot as plt\n",
    "import numpy as np\n",
    "import glob\n",
    "import json\n",
    "\n",
    "#  Function to plot interactions with walls and non-self objects.\n",
    "from scipy.stats import stats\n",
    "from scipy.stats import sem\n",
    "\n",
    "import statistics\n",
    "\n",
    "def plot_all_interactions(game_types, agent_types):\n",
    "    for game in game_types:\n",
    "        plot_interaction(game, agent_types)\n",
    "\n",
    "def plot_interaction(game_type, agent_types):\n",
    "    w_count = []\n",
    "    ns_count = []\n",
    "    w_sem_all = []\n",
    "    ns_sem_all = []\n",
    "    for agent in agent_types:\n",
    "        w, ns, w_sem, ns_sem = get_interaction_counts(game_type, agent)\n",
    "        w_count.append(w)\n",
    "        ns_count.append(ns)\n",
    "        w_sem_all.append(w_sem)\n",
    "        ns_sem_all.append(ns_sem)\n",
    "\n",
    "    # Normalize the counts\n",
    "    normalize(w_count, ns_count, w_sem_all, ns_sem_all)\n",
    "    label_dict = { 'self_class': 'Self Class', 'dqn_training': 'DQN',\n",
    "                       'random': 'Random', 'a2c_training': \"A2C\", 'trpo_training': 'TRPO', 'ppo2_training':'PPO2',\n",
    "               'acer_training': 'ACER'}\n",
    "    agent_labels = label_dict.values()\n",
    "    labels = agent_labels\n",
    "    x = np.arange(len(agent_types))  # the label locations\n",
    "    width = 0.2  # the width of the bars\n",
    "\n",
    "    fig, ax = plt.subplots()\n",
    "    plt.xticks(rotation=90)\n",
    "    wall = ax.bar(x - width/2, w_count, width,  capsize=3, label='Wall', color=\"#00fa9a\", yerr=w_sem_all)\n",
    "    non_self = ax.bar(x + width/2, ns_count, width, capsize=3, label='Non-self', color=\"#e500fa\", yerr=ns_sem_all)\n",
    "\n",
    "    # Add some text for labels, title and custom x-axis tick labels, etc.\n",
    "    game_titles = {\n",
    "        \"shuffleKeys_game\": \"Shuffle Keys Game\",\n",
    "        \"contingency_game\": \"Contingency Game\",\n",
    "        \"contingency_game_r0\": \"Contingency Game (Agent Placement is Constant Among Each Level)\",\n",
    "        \"contingency_game_shuffled\": \"Shuffled Keys Game \\n(Shuffled Once in Every 200 Levels)\",\n",
    "        \"logic_game\": \"Logic Game\",\n",
    "        \"logic_extended_game\": \"Ext Logic\",\n",
    "        \"change_agent_game\": \"Agent Change Game\"\n",
    "    }\n",
    "\n",
    "    ax.set_ylabel('Interaction Count (Normalized)', fontsize=10)\n",
    "    ax.set_title( \"Interaction Count: \" + game_titles[game_type], fontweight='bold', fontsize=15 )\n",
    "    ax.set_xticks(x)\n",
    "    ax.set_xticklabels(labels, fontsize=10)\n",
    "    plt.legend(bbox_to_anchor=(1.05, 1.0), loc='upper left')\n",
    "    fig.tight_layout()\n",
    "    plt.tight_layout()\n",
    "    \n",
    "    # Hide the right and top spines\n",
    "    ax.spines['right'].set_visible(False)\n",
    "    ax.spines['top'].set_visible(False)\n",
    "\n",
    "    fname = game_type + \"_interactions.pdf\"\n",
    "    fig.savefig(fname, format='pdf')\n",
    "\n",
    "    plt.show()\n",
    "\n",
    "def get_interaction_counts(game_type, agent_type):\n",
    "    files = glob.glob(\"../data/\" + game_type + \"/\" + agent_type + \"/*.json\")\n",
    "\n",
    "    if len(files) == 0:\n",
    "        files = glob.glob(\"../data/\" + game_type + \"/\" + agent_type + \"/*/*.json\") + glob.glob(\"../data/\" + game_type + \"/\" + agent_type + \"/*.json\")\n",
    "        \n",
    "    w_count = 0\n",
    "    ns_count = 0\n",
    "\n",
    "    seed = 0\n",
    "    curr_file_count = 0\n",
    "    all_seeds_w = []\n",
    "    all_seeds_ns = []\n",
    "    for i, file in enumerate(sorted(files, key=os.path.getmtime)):\n",
    "        data = json.load(open(file))\n",
    "        data = data.get(\"data\")\n",
    "        \n",
    "        wall_interactions = data[\"wall_interactions\"]\n",
    "        ns_interactions = data[\"ns_interactions\"]\n",
    "\n",
    "        w_count += sum(wall_interactions) / len(wall_interactions)\n",
    "        ns_count += sum(ns_interactions) / len(wall_interactions)\n",
    "\n",
    "        curr_file_count += 1\n",
    "        if curr_file_count == 20:\n",
    "            all_seeds_w.append(w_count)\n",
    "            all_seeds_ns.append(ns_count)\n",
    "            curr_file_count = 0\n",
    "            seed += 1\n",
    "            w_count = 0\n",
    "            ns_count = 0\n",
    "\n",
    "    seed_sem_w = sem(all_seeds_w)\n",
    "    seed_sem_ns = sem(all_seeds_ns)\n",
    "\n",
    "    seed_avg_w = statistics.mean(all_seeds_w)\n",
    "    seed_avg_ns = statistics.mean(all_seeds_ns)\n",
    "\n",
    "\n",
    "    return seed_avg_w, seed_avg_ns, seed_sem_w, seed_sem_ns\n",
    "\n",
    "# normalize wall and non-self counts along with the sem's\n",
    "def normalize(w, ns, w_sem, ns_sem):\n",
    "    for i in range(len(w)):\n",
    "        w_c = w[i]\n",
    "        ns_c = ns[i]\n",
    "        w_sem_c = w_sem[i]\n",
    "        ns_sem_c = ns_sem[i]\n",
    "        sum_c = w_c + ns_c\n",
    "        if sum_c == 0:\n",
    "            continue\n",
    "        w[i] = w_c / sum_c\n",
    "        ns[i] = ns_c / sum_c\n",
    "\n",
    "        w_sem[i] = w_sem_c / sum_c\n",
    "        ns_sem[i] = ns_sem_c / sum_c\n",
    "        "
   ]
  },
  {
   "cell_type": "code",
   "execution_count": 11,
   "metadata": {
    "pycharm": {
     "name": "#%%\n"
    }
   },
   "outputs": [
    {
     "data": {
      "text/plain": "<Figure size 432x288 with 1 Axes>",
      "image/png": "[encoded data removed]"
     },
     "metadata": {
      "needs_background": "light"
     },
     "output_type": "display_data"
    }
   ],
   "source": [
    "agent_types = [\"self_class\", \"dqn_training\", \"random\", \"a2c_training\", \"trpo_training\", \"ppo2_training\",\n",
    "               \"acer_training\"]\n",
    "game_types = [ \"contingency_game\"] # \"logic_game\", \"contingency_game_shuffled\", \"change_agent_game\",\n",
    "\n",
    "# Plot interaction frequencies for each game and agent.\n",
    "plot_all_interactions(game_types, agent_types)"
   ]
  },
  {
   "cell_type": "code",
   "execution_count": 6,
   "metadata": {
    "pycharm": {
     "name": "#%%\n"
    }
   },
   "outputs": [],
   "source": [
    "# Function to plot bar chart for total steps.\n",
    "\n",
    "def plot_all_total_steps(game_types, agent_types):\n",
    "    for game in game_types:\n",
    "        plot_total_steps(game, agent_types)\n",
    "\n",
    "def plot_total_steps(game_type, agent_types):\n",
    "    total_mean = []\n",
    "    total_sem = []\n",
    "    for agent in agent_types:\n",
    "        mean, sem = get_mean_and_sem(game_type, agent)\n",
    "        total_mean.append(mean)\n",
    "        total_sem.append(sem)\n",
    "\n",
    "    label_dict = { 'self_class': 'Self Class', 'dqn_training': 'DQN',\n",
    "                       'random': 'Random', 'a2c_training': \"A2C\", 'trpo_training': 'TRPO', 'ppo2_training':'PPO2',\n",
    "               'acer_training': 'ACER'}\n",
    "    labels = label_dict.values()\n",
    "    x = np.arange(len(labels))  # the label locations\n",
    "    width = 0.2  # the width of the bars\n",
    "\n",
    "    fig, ax = plt.subplots()\n",
    "    ts = ax.bar(x, total_mean, width=width, color=[\"#03fc9d\", \"#0373fc\", \"#d002f5\", \"#fa0047\", \"#ff8903\", \"#b0b81f\", \"#000000\"], # yerr=total_sem\n",
    "                ecolor='black', capsize=5, alpha=0.5)\n",
    "\n",
    "    # Add some text for labels, title and custom x-axis tick labels, etc.\n",
    "    game_titles = {\n",
    "        \"shuffleKeys_game\": \"Shuffle Keys Game\",\n",
    "        \"contingency_game\": \"Contingency Game\",\n",
    "        \"contingency_game_r0\": \"Contingency Game (Agent Placement is Constant Among Each Level)\",\n",
    "        \"contingency_game_shuffled\": \"Shuffled Keys Game \\n(Shuffled Once in Every 200 Levels)\",\n",
    "        \"logic_game\": \"Logic Game\",\n",
    "        \"logic_extended_game\": \"Ext Logic\",\n",
    "        \"change_agent_game\": \"Agent Change Game\"\n",
    "    }\n",
    "    ax.set_ylabel('Total Steps (Average of All Seeds)')\n",
    "    ax.set_title( \"Total Steps: \" + game_titles[game_type], fontweight='bold', fontsize=15 )\n",
    "    ax.set_xticks(x)\n",
    "    ax.set_xticklabels(labels)\n",
    "\n",
    "    def autolabel(rects):\n",
    "        \"\"\"Attach a text label above each bar in *rects*, displaying its height.\"\"\"\n",
    "        for rect in rects:\n",
    "            height = rect.get_height()\n",
    "            ax.annotate('{}'.format(height),\n",
    "                        xy=(rect.get_x() + rect.get_width() / 2, height),\n",
    "                        xytext=(0, 3),  # 3 points vertical offset\n",
    "                        textcoords=\"offset points\",\n",
    "                        ha='center', va='bottom')\n",
    "\n",
    "    #autolabel(ts)\n",
    "    \n",
    "    # Hide the right and top spines\n",
    "    ax.spines['right'].set_visible(False)\n",
    "    ax.spines['top'].set_visible(False)\n",
    "    \n",
    "    #plt.figure(num=None, figsize=(12, 9), dpi=80, facecolor='w', edgecolor='k')\n",
    "    plt.tight_layout()\n",
    "\n",
    "    fname = game_type + \"_total_steps.pdf\"\n",
    "    fig.savefig(fname, format='pdf')\n",
    "\n",
    "def get_mean_and_sem(game_type, agent_type):\n",
    "    files = glob.glob(\"../data/\" + game_type + \"/\" + agent_type + \"/*.json\")\n",
    "\n",
    "    if len(files) == 0:\n",
    "        files = glob.glob(\"../data/\" + game_type + \"/\" + agent_type + \"/*/*.json\")\n",
    "\n",
    "    if len(files) == 0:\n",
    "        return 0, 0\n",
    "    seed_count = 0\n",
    "    all_counts = []\n",
    "    curr_file_count = 0\n",
    "    for i, file in enumerate(sorted(files, key=os.path.getmtime)):\n",
    "        data = json.load(open(file))\n",
    "        data = data.get(\"data\")\n",
    "        seed_count += sum(data[\"steps\"])\n",
    "\n",
    "        curr_file_count += 1\n",
    "        if curr_file_count == 20:\n",
    "            all_counts.append(seed_count)\n",
    "            seed_count = 0\n",
    "            curr_file_count = 0\n",
    "\n",
    "    seed_sem = sem(all_counts)\n",
    "    seed_avg = statistics.mean(all_counts)\n",
    "    return seed_avg, seed_sem"
   ]
  },
  {
   "cell_type": "code",
   "execution_count": 7,
   "metadata": {
    "pycharm": {
     "name": "#%%\n"
    }
   },
   "outputs": [
    {
     "data": {
      "text/plain": "<Figure size 432x288 with 1 Axes>",
      "image/png": "[encoded data removed]"
     },
     "metadata": {
      "needs_background": "light"
     },
     "output_type": "display_data"
    }
   ],
   "source": [
    "agent_types = [\"self_class\", \"dqn_training\", \"random\", \"a2c_training\", \"trpo_training\", \"ppo2_training\",\n",
    "               \"acer_training\"]\n",
    "game_types = [\"contingency_game_shuffled\"]#\"logic_game\", \"contingency_game\", \"change_agent_game\",\n",
    "\n",
    "# Plot interaction frequencies for each game and agent.\n",
    "plot_all_total_steps(game_types, agent_types)"
   ]
  },
  {
   "cell_type": "code",
   "execution_count": null,
   "outputs": [],
   "source": [],
   "metadata": {
    "collapsed": false,
    "pycharm": {
     "name": "#%%\n"
    }
   }
  }
 ],
 "metadata": {
  "kernelspec": {
   "display_name": "Python 3",
   "language": "python",
   "name": "python3"
  },
  "language_info": {
   "codemirror_mode": {
    "name": "ipython",
    "version": 3
   },
   "file_extension": ".py",
   "mimetype": "text/x-python",
   "name": "python",
   "nbconvert_exporter": "python",
   "pygments_lexer": "ipython3",
   "version": "3.6.12"
  }
 },
 "nbformat": 4,
 "nbformat_minor": 1
}