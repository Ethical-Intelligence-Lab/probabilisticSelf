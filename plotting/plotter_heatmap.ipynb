{
 "cells": [
  {
   "cell_type": "code",
   "execution_count": 1,
   "metadata": {
    "pycharm": {
     "name": "#%%\n"
    }
   },
   "outputs": [],
   "source": [
    "import matplotlib.image as mpimg\n",
    "import matplotlib.pyplot as plt\n",
    "from IPython.core.display import display\n",
    "from PIL import Image\n",
    "from matplotlib.ticker import NullLocator\n",
    "import numpy as np\n",
    "import glob\n",
    "import pandas as pd\n",
    "import json\n",
    "import os\n",
    "from sklearn import preprocessing\n",
    "from skimage.metrics import structural_similarity as ssim  # Need >= Version 0.16.1\n",
    "from skimage.metrics import mean_squared_error\n",
    "\n",
    "game_titles = {\n",
    "    \"shuffleKeys_game\": \"Switching Mappings Game\",\n",
    "    \"contingency_game\": \"Contingency Game\",\n",
    "    \"contingency_game_r0\": \"Contingency Game (Agent Placement is Constant Among Each Level)\",\n",
    "    \"contingency_game_shuffled_1\": \"Switching Mappings Game (Switched Every Level)\",\n",
    "    \"contingency_game_shuffled_100\": \"Switching Mappings Game (Switched Once in Every 100 Levels)\",\n",
    "    \"contingency_game_shuffled_200\": \"Switching Mappings Game (Switched Once in Every 200 Levels)\",\n",
    "    \"contingency_game_shuffled\": \"Switching Mappings Game\",\n",
    "    \"logic_game\": \"Logic Game\",\n",
    "    \"logic_extended_game\": \"Ext Logic\",\n",
    "    \"change_agent_game\": \"Switching Embodiments Game\"\n",
    "}\n",
    "\n",
    "agent_titles = {'human': 'Human', 'self_class': 'Self Class', 'dqn_training': 'DQN',\n",
    "                'random': 'Random', 'a2c_training': \"A2C\", 'trpo_training': 'TRPO', 'ppo2_training': 'PPO2',\n",
    "                'acer_training': 'ACER'}\n",
    "\n",
    "agent_types = [ \"human\", \"self_class\", \"random\", \"a2c_training\", \"trpo_training\", \"acer_training\",\n",
    "                   \"ppo2_training\", \"dqn_training\"]\n",
    "game_types = [\"logic_game\", \"change_agent_game\", \"contingency_game\", \"contingency_game_shuffled_1\"]\n",
    "\n",
    "def combine_human_heatmaps(game_name, normalized=False):\n",
    "    game_f = '_normalized' if normalized else ''\n",
    "    path = \"./plots/heatmaps/\" + game_name + \"{}/\".format(game_f) + \"human/\" + \"*.jpg\"\n",
    "    files = glob.glob(path)\n",
    "\n",
    "    def get_index(x):\n",
    "        print(x.split(\"_\"))\n",
    "        return int(x.split(\"_\")[-2])\n",
    "\n",
    "    sorted_files = sorted(files, key=get_index)\n",
    "    images = []\n",
    "    for file in sorted_files:\n",
    "        images.append(Image.open(file))\n",
    "\n",
    "    all_imgs = None\n",
    "    curr_horiz = images[0]\n",
    "    for i in range(1, len(images)):\n",
    "        if i != 0 and i % 5 == 0: # Concatanate vertically\n",
    "            if all_imgs is None:\n",
    "                all_imgs = curr_horiz\n",
    "            else:\n",
    "                all_imgs = get_concat_v(all_imgs, curr_horiz)\n",
    "            curr_horiz = images[i]\n",
    "        else:\n",
    "            curr_horiz = get_concat_h(curr_horiz, images[i])\n",
    "    all_imgs = get_concat_v(all_imgs, curr_horiz)\n",
    "\n",
    "    display(all_imgs)\n",
    "\n",
    "    path = \"./plots/heatmaps/concatenated_human_heatmaps/\"\n",
    "    if not os.path.exists(path):\n",
    "        os.makedirs(path)\n",
    "\n",
    "\n",
    "    fs = \"\"\n",
    "    if fl100 == 1:\n",
    "        fs = \"first_100\"\n",
    "    elif fl100 == -1:\n",
    "        fs = \"last_100\"\n",
    "\n",
    "    if normalized:\n",
    "        filename = path + game_name + \"_norm_concat{}.jpg\".format(fs)\n",
    "        all_imgs.save(filename, quality=100)\n",
    "    else:\n",
    "        filename = path + game_name + \"_concat{}.jpg\".format(fs)\n",
    "        all_imgs.save(filename, quality=100)\n",
    "\n",
    "\n",
    "def combine_heatmaps(game_name, normalized=False, comparison=False, fl100=0, single_row=False):\n",
    "    fs = \"\"\n",
    "    if fl100 == 1:\n",
    "        fs = \"first_100\"\n",
    "    elif fl100 == -1:\n",
    "        fs = \"last_100\"\n",
    "\n",
    "    images = []\n",
    "    for i in range(len(agent_types)):\n",
    "        if normalized:\n",
    "            if comparison:\n",
    "                if agent_types[i] == 'human':\n",
    "                    continue\n",
    "                path = \"./plots/heatmaps/comparisons_normalized_avg{}/\".format(fs) + game_name + \"/{}.jpg\".format(agent_types[i])\n",
    "            else:\n",
    "                path = \"./plots/heatmaps/\" + game_name + \"_normalized_avg/\" + agent_types[i] + \"/\" + \"{}seeds_combined_heatmap.jpg\".format(fs)\n",
    "        else:\n",
    "            if comparison:\n",
    "                if agent_types[i] == 'human':\n",
    "                    continue\n",
    "                path = \"./plots/heatmaps/comparisons_avg{}/\".format(fs) + game_name + \"/{}.jpg\".format(agent_types[i])\n",
    "            else:\n",
    "                path = \"./plots/heatmaps/\" + game_name + \"_avg/\" + agent_types[i] + \"/\" + \"{}seeds_combined_heatmap.jpg\".format(fs)\n",
    "        if len(glob.glob(path)) == 0:  # if one of the image files do not exist\n",
    "            print(\"Cannot concatanate: File \" + path + \" does not exist.\")\n",
    "            return\n",
    "        images.append(Image.open(glob.glob(path)[0]))\n",
    "\n",
    "    if single_row:\n",
    "        concat_func = get_concat_h\n",
    "    else:\n",
    "        concat_func = get_concat_v\n",
    "\n",
    "    if not comparison:\n",
    "        h1 = concat_func(images[0], images[1])\n",
    "        h2 = concat_func(images[2], images[3])\n",
    "        h3 = concat_func(images[4], images[5])\n",
    "        h4 = concat_func(images[6],images[7])\n",
    "    else:\n",
    "        h1 = concat_func(images[0], images[1])\n",
    "        h2 = concat_func(images[2], images[3])\n",
    "        h3 = concat_func(images[4], images[5])\n",
    "        h4 = images[6]\n",
    "\n",
    "    combined = get_concat_h(h1, h2)\n",
    "    combined = get_concat_h(combined, h3)\n",
    "    combined = get_concat_v(combined, h4) if comparison else get_concat_h(combined, h4)\n",
    "    display(combined)\n",
    "\n",
    "    path = \"./plots/heatmaps/concatenated_heatmaps_compare/\" if comparison else \"./plots/heatmaps/concatenated_heatmaps/\"\n",
    "    if not os.path.exists(path):\n",
    "        os.makedirs(path)\n",
    "\n",
    "    if normalized:\n",
    "        filename = path + game_name + \"_norm_concat{}.jpg\".format(fs)\n",
    "        combined.save(filename, quality=100)\n",
    "    else:\n",
    "        filename = path + game_name + \"_concat{}.jpg\".format(fs)\n",
    "        combined.save(filename, quality=100)\n",
    "\n",
    "\n",
    "# Concatenate vertically\n",
    "def get_concat_v(im1, im2):\n",
    "    dst = Image.new('RGB', (im1.width, im1.height + im2.height))\n",
    "    dst.paste(im1, (0, 0))\n",
    "    dst.paste(im2, (0, im1.height))\n",
    "    return dst\n",
    "\n",
    "\n",
    "# Concatenate horizontally\n",
    "def get_concat_h(im1, im2):\n",
    "    dst = Image.new('RGB', (im1.width + im2.width, im1.height))\n",
    "    dst.paste(im1, (0, 0))\n",
    "    dst.paste(im2, (im1.width, 0))\n",
    "    return dst\n",
    "\n",
    "\n",
    "def plot_heatmap(normalise, state_counts, file, game_type, agent_type, avg=False):\n",
    "    if normalise:\n",
    "        state_counts = preprocessing.normalize(state_counts)\n",
    "\n",
    "    plt.imshow(state_counts.T, cmap='viridis')\n",
    "    plt.gca().set_axis_off()\n",
    "    plt.subplots_adjust(top=1, bottom=0, right=1, left=0,\n",
    "                        hspace=0, wspace=0)\n",
    "    plt.margins(0, 0)\n",
    "    plt.gca().xaxis.set_major_locator(NullLocator())\n",
    "    plt.gca().yaxis.set_major_locator(NullLocator())\n",
    "    base = os.path.basename(file)\n",
    "\n",
    "    if normalise and avg:  # Normalized avg.\n",
    "        path = \"./plots/heatmaps/\" + game_type + \"_normalized_avg/\" + agent_type + \"/\"\n",
    "    elif normalise and not avg:  # Normalized\n",
    "        path = \"./plots/heatmaps/\" + game_type + \"_normalized/\" + agent_type + \"/\"\n",
    "    elif avg and not normalise:  # Avg.\n",
    "        path = \"./plots/heatmaps/\" + game_type + \"_avg/\" + agent_type + \"/\"\n",
    "    else:  # Normal with title\n",
    "        path = \"./plots/heatmaps/\" + game_type + \"/\" + agent_type + \"/\"\n",
    "\n",
    "    if not os.path.exists(path):\n",
    "        os.makedirs(path)\n",
    "\n",
    "    filename = path + os.path.splitext(base)[0] + '_heatmap.jpg'\n",
    "    print(\"saving to: {}\".format(filename))\n",
    "    plt.savefig(filename, bbox_inches='tight', pad_inches=0, dpi=500)\n",
    "    plt.show()\n",
    "\n",
    "\n",
    "# fl100 == 0 -> All levels, fl100 == 1 -> First 100 Only, fl100 == -1 -> Last 100 Only\n",
    "def make_heatmap(game_type, agent_type, normalise=False, fl100=0):\n",
    "    files = glob.glob(\"../data/\" + game_type + \"/\" + agent_type + \"/*.json\")\n",
    "\n",
    "    if len(files) == 0:\n",
    "        files = glob.glob(\"../data/\" + game_type + \"/\" + agent_type + \"/*/*.json\") + glob.glob(\n",
    "            \"../data/\" + game_type + \"/\" + agent_type + \"/*.json\")\n",
    "    if len(files) == 0:\n",
    "        return False\n",
    "\n",
    "    seed = 0\n",
    "    curr_file_count = 0\n",
    "    state_counts_sum = []  # Sum of state counts of all seeds\n",
    "    state_counts_seed = []  # Sum of state counts of a single seed\n",
    "\n",
    "    def get_seed_num_and_iter(x):\n",
    "        return int(x.split(\"/\")[4][4]) * 1000000000 + int(x.split(\"/\")[-1][6:-5])\n",
    "\n",
    "    sorted_files = sorted(files, key=os.path.getmtime if agent_type == 'human' else get_seed_num_and_iter)\n",
    "    for i, file in enumerate(sorted_files):\n",
    "        data = json.load(open(file))\n",
    "        self_locs = data.get(\"data\")[\"self_locs\"]\n",
    "        map = data.get(\"data\")[\"map\"]\n",
    "\n",
    "        level_amt = 100\n",
    "        width = len(map[0][0])\n",
    "        height = len(map[0])\n",
    "\n",
    "        state_counts = np.zeros((width, height))  # State counts of 100 levels\n",
    "\n",
    "        if i == 0:\n",
    "            state_counts_seed = np.zeros((width, height))\n",
    "            state_counts_sum = np.zeros((width, height))\n",
    "\n",
    "        # read encountered states\n",
    "        for level in range(level_amt):\n",
    "            if len(self_locs[level]) == 0:\n",
    "                continue\n",
    "            action_amt = len(self_locs[level][0])\n",
    "            for i in range(action_amt):\n",
    "                x = self_locs[level][0][i]\n",
    "                y = self_locs[level][1][i]\n",
    "                state_counts[x, y] += 1\n",
    "\n",
    "        # rotate the matrix\n",
    "        state_counts = np.rot90(state_counts)\n",
    "\n",
    "        if fl100 == 0 and agent_type != 'human':\n",
    "            state_counts_sum += state_counts\n",
    "            state_counts_seed += state_counts\n",
    "\n",
    "        curr_file_count += 1\n",
    "        if curr_file_count == 20 and fl100 == 0 and agent_type != 'human':\n",
    "            plot_heatmap(normalise, state_counts_seed, \"seed_\" + str(seed), game_type, agent_type)\n",
    "            state_counts_seed = np.zeros((width, height))\n",
    "            curr_file_count = 0\n",
    "            seed += 1\n",
    "\n",
    "        if ((curr_file_count - 1) % 20 == 0) and fl100 == 1 and agent_type != 'human':\n",
    "            print(file)\n",
    "            state_counts_seed = np.zeros((width, height))\n",
    "            state_counts_sum += state_counts\n",
    "            state_counts_seed += state_counts\n",
    "            plot_heatmap(normalise, state_counts_seed, \"first_100_seed_\" + str(seed), game_type, agent_type)\n",
    "            seed += 1\n",
    "\n",
    "\n",
    "        if (curr_file_count % 20 == 0) and fl100 == -1 and agent_type != 'human':\n",
    "            print(file)\n",
    "            state_counts_seed = np.zeros((width, height))\n",
    "            state_counts_sum += state_counts\n",
    "            state_counts_seed += state_counts\n",
    "            plot_heatmap(normalise, state_counts_seed, \"last_100_seed_\" + str(seed), game_type, agent_type)\n",
    "            seed += 1\n",
    "\n",
    "        if agent_type == 'human':\n",
    "            print(file)\n",
    "            state_counts_seed = np.zeros((width, height))\n",
    "            state_counts_seed += state_counts\n",
    "            state_counts_sum += state_counts\n",
    "            plot_heatmap(normalise, state_counts_seed, file.split('_')[0] + \"_\" + str(seed), game_type, agent_type)\n",
    "            seed += 1\n",
    "\n",
    "    s = \"\"\n",
    "    if fl100 == 1:\n",
    "        s = \"first_100\"\n",
    "    elif fl100 == -1:\n",
    "        s = \"last_100\"\n",
    "\n",
    "    plot_heatmap(normalise, state_counts_sum, \"{}seeds_combined\".format(s), game_type, agent_type, avg=True)\n",
    "    return True"
   ]
  },
  {
   "cell_type": "code",
   "execution_count": null,
   "metadata": {
    "pycharm": {
     "name": "#%%\n",
     "is_executing": true
    }
   },
   "outputs": [
    {
     "name": "stdout",
     "output_type": "stream",
     "text": [
      "../data/logic_game/human/A2JDYN6QM8M5UN_2021-12-08=16:26:09.json\n",
      "saving to: ./plots/heatmaps/logic_game/human/logic_0_heatmap.jpg\n"
     ]
    },
    {
     "data": {
      "text/plain": "<Figure size 432x288 with 1 Axes>",
      "image/png": "[encoded data removed]"
     },
     "metadata": {},
     "output_type": "display_data"
    },
    {
     "name": "stdout",
     "output_type": "stream",
     "text": [
      "../data/logic_game/human/A3IMB1JAMHP1KK_2021-12-08=16:26:23.json\n",
      "saving to: ./plots/heatmaps/logic_game/human/logic_1_heatmap.jpg\n"
     ]
    },
    {
     "data": {
      "text/plain": "<Figure size 432x288 with 1 Axes>",
      "image/png": "[encoded data removed]"
     },
     "metadata": {},
     "output_type": "display_data"
    },
    {
     "name": "stdout",
     "output_type": "stream",
     "text": [
      "../data/logic_game/human/APGX2WZ59OWDN_2021-12-08=16:30:36.json\n",
      "saving to: ./plots/heatmaps/logic_game/human/logic_2_heatmap.jpg\n"
     ]
    },
    {
     "data": {
      "text/plain": "<Figure size 432x288 with 1 Axes>",
      "image/png": "[encoded data removed]"
     },
     "metadata": {},
     "output_type": "display_data"
    },
    {
     "name": "stdout",
     "output_type": "stream",
     "text": [
      "../data/logic_game/human/A1DZMZTXWOM9MR_2021-12-08=16:31:01.json\n",
      "saving to: ./plots/heatmaps/logic_game/human/logic_3_heatmap.jpg\n"
     ]
    },
    {
     "data": {
      "text/plain": "<Figure size 432x288 with 1 Axes>",
      "image/png": "[encoded data removed]"
     },
     "metadata": {},
     "output_type": "display_data"
    },
    {
     "name": "stdout",
     "output_type": "stream",
     "text": [
      "../data/logic_game/human/A12FTSX85NQ8N9_2021-12-08=16:31:21.json\n",
      "saving to: ./plots/heatmaps/logic_game/human/logic_4_heatmap.jpg\n"
     ]
    },
    {
     "data": {
      "text/plain": "<Figure size 432x288 with 1 Axes>",
      "image/png": "[encoded data removed]"
     },
     "metadata": {},
     "output_type": "display_data"
    },
    {
     "name": "stdout",
     "output_type": "stream",
     "text": [
      "../data/logic_game/human/A2APG8MSLJ6G2K_2021-12-08=16:32:21.json\n",
      "saving to: ./plots/heatmaps/logic_game/human/logic_5_heatmap.jpg\n"
     ]
    },
    {
     "data": {
      "text/plain": "<Figure size 432x288 with 1 Axes>",
      "image/png": "[encoded data removed]"
     },
     "metadata": {},
     "output_type": "display_data"
    },
    {
     "name": "stdout",
     "output_type": "stream",
     "text": [
      "../data/logic_game/human/A3S3WYVCVWW8IZ_2021-12-08=16:32:44.json\n",
      "saving to: ./plots/heatmaps/logic_game/human/logic_6_heatmap.jpg\n"
     ]
    },
    {
     "data": {
      "text/plain": "<Figure size 432x288 with 1 Axes>",
      "image/png": "[encoded data removed]"
     },
     "metadata": {},
     "output_type": "display_data"
    },
    {
     "name": "stdout",
     "output_type": "stream",
     "text": [
      "../data/logic_game/human/A248QG4DPULP46_2021-12-08=16:35:54.json\n",
      "saving to: ./plots/heatmaps/logic_game/human/logic_7_heatmap.jpg\n"
     ]
    },
    {
     "data": {
      "text/plain": "<Figure size 432x288 with 1 Axes>",
      "image/png": "[encoded data removed]"
     },
     "metadata": {},
     "output_type": "display_data"
    },
    {
     "name": "stdout",
     "output_type": "stream",
     "text": [
      "../data/logic_game/human/AP5TSGEVCJLOS_2021-12-08=16:38:15.json\n",
      "saving to: ./plots/heatmaps/logic_game/human/logic_8_heatmap.jpg\n"
     ]
    },
    {
     "data": {
      "text/plain": "<Figure size 432x288 with 1 Axes>",
      "image/png": "[encoded data removed]"
     },
     "metadata": {},
     "output_type": "display_data"
    },
    {
     "name": "stdout",
     "output_type": "stream",
     "text": [
      "../data/logic_game/human/AMELYCC59JKB0_2021-12-08=16:39:37.json\n",
      "saving to: ./plots/heatmaps/logic_game/human/logic_9_heatmap.jpg\n"
     ]
    },
    {
     "data": {
      "text/plain": "<Figure size 432x288 with 1 Axes>",
      "image/png": "[encoded data removed]"
     },
     "metadata": {},
     "output_type": "display_data"
    },
    {
     "name": "stdout",
     "output_type": "stream",
     "text": [
      "../data/logic_game/human/A1PBRKFHSF1OF8_2021-12-08=16:40:05.json\n",
      "saving to: ./plots/heatmaps/logic_game/human/logic_10_heatmap.jpg\n"
     ]
    },
    {
     "data": {
      "text/plain": "<Figure size 432x288 with 1 Axes>",
      "image/png": "[encoded data removed]"
     },
     "metadata": {},
     "output_type": "display_data"
    },
    {
     "name": "stdout",
     "output_type": "stream",
     "text": [
      "../data/logic_game/human/A3QNCW3LR2AVOV_2021-12-08=16:58:15.json\n",
      "saving to: ./plots/heatmaps/logic_game/human/logic_11_heatmap.jpg\n"
     ]
    },
    {
     "data": {
      "text/plain": "<Figure size 432x288 with 1 Axes>",
      "image/png": "[encoded data removed]"
     },
     "metadata": {},
     "output_type": "display_data"
    },
    {
     "name": "stdout",
     "output_type": "stream",
     "text": [
      "../data/logic_game/human/A2ZDEERVRN5AMC_2021-12-08=17:00:50.json\n",
      "saving to: ./plots/heatmaps/logic_game/human/logic_12_heatmap.jpg\n"
     ]
    },
    {
     "data": {
      "text/plain": "<Figure size 432x288 with 1 Axes>",
      "image/png": "[encoded data removed]"
     },
     "metadata": {},
     "output_type": "display_data"
    },
    {
     "name": "stdout",
     "output_type": "stream",
     "text": [
      "../data/logic_game/human/A1NVJB5O4H7ZCJ_2021-12-08=17:07:05.json\n",
      "saving to: ./plots/heatmaps/logic_game/human/logic_13_heatmap.jpg\n"
     ]
    },
    {
     "data": {
      "text/plain": "<Figure size 432x288 with 1 Axes>",
      "image/png": "[encoded data removed]"
     },
     "metadata": {},
     "output_type": "display_data"
    },
    {
     "name": "stdout",
     "output_type": "stream",
     "text": [
      "../data/logic_game/human/A26LOVXF4QZZCO_2021-12-08=18:06:57.json\n",
      "saving to: ./plots/heatmaps/logic_game/human/logic_14_heatmap.jpg\n"
     ]
    },
    {
     "data": {
      "text/plain": "<Figure size 432x288 with 1 Axes>",
      "image/png": "[encoded data removed]"
     },
     "metadata": {},
     "output_type": "display_data"
    },
    {
     "name": "stdout",
     "output_type": "stream",
     "text": [
      "../data/logic_game/human/AFM65NU0UXIGP_2021-12-10=14:29:30.json\n",
      "saving to: ./plots/heatmaps/logic_game/human/logic_15_heatmap.jpg\n"
     ]
    },
    {
     "data": {
      "text/plain": "<Figure size 432x288 with 1 Axes>",
      "image/png": "[encoded data removed]"
     },
     "metadata": {},
     "output_type": "display_data"
    },
    {
     "name": "stdout",
     "output_type": "stream",
     "text": [
      "../data/logic_game/human/AOS2PVHT2HYTL_2021-12-10=14:33:39.json\n",
      "saving to: ./plots/heatmaps/logic_game/human/logic_16_heatmap.jpg\n"
     ]
    },
    {
     "data": {
      "text/plain": "<Figure size 432x288 with 1 Axes>",
      "image/png": "[encoded data removed]"
     },
     "metadata": {},
     "output_type": "display_data"
    },
    {
     "name": "stdout",
     "output_type": "stream",
     "text": [
      "../data/logic_game/human/ASC9DUCC64M3P_2021-12-10=14:49:03.json\n",
      "saving to: ./plots/heatmaps/logic_game/human/logic_17_heatmap.jpg\n"
     ]
    }
   ],
   "source": [
    "# make heatmap for all game types and agent types\n",
    "fl100s = [0, 1, -1] #0,\n",
    "\n",
    "for fl100 in fl100s:\n",
    "    for game in game_types:\n",
    "        for agent in agent_types:\n",
    "            make_heatmap(game, agent, fl100=fl100)\n",
    "            make_heatmap(game, agent, normalise=True, fl100=fl100) # make normalized heatmaps\n",
    "\n",
    "        #combine_heatmaps(game, fl100=fl100)\n",
    "        #combine_heatmaps(game, normalized=True, fl100=fl100) # combine normalized heatmaps\n",
    "\n",
    "        # Combine comparisons\n",
    "        #if fl100 == 1:\n",
    "        #    combine_human_heatmaps(game, normalized=False)\n",
    "        #    combine_human_heatmaps(game, normalized=True)\n",
    "        #combine_heatmaps(game, normalized=False, comparison=True, fl100=fl100)\n",
    "        #combine_heatmaps(game, normalized=True, comparison=True, fl100=fl100)  # combine normalized heatmaps\n",
    "\n",
    "\"\"\"\n",
    "for fl100 in fl100s:\n",
    "    #combine_heatmaps(\"logic_game\", normalized=False, comparison=True, fl100=fl100)\n",
    "    #combine_heatmaps(\"logic_game\", normalized=True, comparison=True, fl100=fl100)  # combine normalized heatmaps\n",
    "    #combine_heatmaps(\"contingency_game\", normalized=False, comparison=False, fl100=fl100, single_row=True)\n",
    "    #combine_heatmaps(\"contingency_game\", normalized=True, comparison=False, fl100=fl100, single_row=True)  # combine normalized heatmaps\n",
    "    #combine_heatmaps(\"change_agent_game\", normalized=False, comparison=False, fl100=fl100, single_row=True)\n",
    "    #combine_heatmaps(\"change_agent_game\", normalized=True, comparison=False, fl100=fl100, single_row=True)\n",
    "    combine_heatmaps(\"contingency_game_shuffled_1\", normalized=True, comparison=False, fl100=fl100, single_row=True)\n",
    "    combine_heatmaps(\"contingency_game_shuffled_100\", normalized=True, comparison=False, fl100=fl100, single_row=True)\n",
    "    combine_heatmaps(\"contingency_game_shuffled_200\", normalized=True, comparison=False, fl100=fl100, single_row=True)\n",
    "\"\"\""
   ]
  },
  {
   "cell_type": "code",
   "execution_count": 9,
   "metadata": {
    "pycharm": {
     "name": "#%%\n"
    }
   },
   "outputs": [
    {
     "data": {
      "text/plain": "False"
     },
     "execution_count": 9,
     "metadata": {},
     "output_type": "execute_result"
    }
   ],
   "source": [
    "make_heatmap(\"contingency_game\", \"human\", fl100=0, normalise=True)\n",
    "make_heatmap(\"contingency_game\", \"human\", fl100=1, normalise=True)\n",
    "make_heatmap(\"contingency_game\", \"human\", fl100=-1, normalise=True)\n",
    "\n",
    "#make_heatmap(\"contingency_game_shuffled_1\", \"self_class\")\n",
    "#make_heatmap(\"contingency_game_shuffled_1\", \"self_class\", True)\n",
    "\n",
    "#make_heatmap(\"contingency_game_shuffled_100\", \"self_class\")\n",
    "#make_heatmap(\"contingency_game_shuffled_100\", \"self_class\", True)\n",
    "\n",
    "#make_heatmap(\"contingency_game_shuffled_200\", \"self_class\")\n",
    "#make_heatmap(\"contingency_game_shuffled_200\", \"self_class\", True)"
   ]
  },
  {
   "cell_type": "code",
   "execution_count": null,
   "metadata": {
    "pycharm": {
     "name": "#%%\n"
    }
   },
   "outputs": [],
   "source": [
    "# Source: https://www.pyimagesearch.com/2014/09/15/python-compare-two-images/\n",
    "def mse(imageA, imageB):\n",
    "    # the 'Mean Squared Error' between the two images is the\n",
    "    # sum of the squared difference between the two images;\n",
    "    # NOTE: the two images must have the same dimension\n",
    "    err = np.sum((imageA.astype(\"float\") - imageB.astype(\"float\")) ** 2)\n",
    "    err /= float(imageA.shape[0] * imageA.shape[1])\n",
    "\n",
    "    # return the MSE, the lower the error, the more \"similar\"\n",
    "    # the two images are\n",
    "    return err\n",
    "\n",
    "\n",
    "# Source: https://www.pyimagesearch.com/2014/09/15/python-compare-two-images/\n",
    "def compare_images(imageA, imageB, game_type, agent_type, title, folder_appx, fl100, plot=True):\n",
    "    sstr = \"\"\n",
    "    if fl100 == 1:\n",
    "        sstr = \"first_100\"\n",
    "    elif fl100 == -1:\n",
    "        sstr = \"last_100\"\n",
    "\n",
    "    # compute the mean squared error and structural similarity\n",
    "    # index for the images\n",
    "    m = mse(imageA, imageB)\n",
    "    #m = mean_squared_error(imgA, imgB) # Mean Squared Error (0 = same image)\n",
    "    s = ssim(imageA, imageB, multichannel=True)  # Structural Similarity (1 = same image). This one is more precise\n",
    "\n",
    "    # setup the figure\n",
    "    fig = plt.figure(title)\n",
    "    plt.suptitle(\"MSE: %.2f, SSIM: %.2f\" % (m, s) + \" \\n\" + title + \"\")\n",
    "\n",
    "    # show first image\n",
    "    ax = fig.add_subplot(1, 2, 1)\n",
    "    plt.imshow(imageA, cmap=plt.cm.gray)\n",
    "    plt.axis(\"off\")\n",
    "\n",
    "    # show the second image\n",
    "    ax = fig.add_subplot(1, 2, 2)\n",
    "    plt.imshow(imageB, cmap=plt.cm.gray)\n",
    "    plt.axis(\"off\")\n",
    "\n",
    "    # show the images\n",
    "    if plot:\n",
    "        plt.show()\n",
    "\n",
    "        path = \"./plots/heatmaps/comparisons_{}{}/\".format(folder_appx, sstr) + game_type + \"/\"\n",
    "        if not os.path.exists(path):\n",
    "            os.makedirs(path)\n",
    "\n",
    "        filename = path + agent_type + \".jpg\"\n",
    "\n",
    "        fig.savefig(filename, format='jpg', dpi=1200)\n",
    "    return m, s"
   ]
  },
  {
   "cell_type": "code",
   "execution_count": null,
   "metadata": {
    "pycharm": {
     "name": "#%%\n"
    }
   },
   "outputs": [],
   "source": [
    "errors_mse = {}\n",
    "errors_ssim = {}\n",
    "\n",
    "norm_errors_mse = {}\n",
    "norm_errors_ssim = {}\n",
    "fl100s = [0, 1, -1]\n",
    "\n",
    "\n",
    "for fl100 in fl100s:\n",
    "    s = \"\"\n",
    "    tstr = \"\"\n",
    "    if fl100 == 1:\n",
    "        s = \"first_100\"\n",
    "        tstr = \"First 100 Levels\"\n",
    "    elif fl100 == -1:\n",
    "        s = \"last_100\"\n",
    "        tstr = \"Last 100 Levels\"\n",
    "\n",
    "    # Not normalized\n",
    "    for game in game_types:\n",
    "        errors_mse[game] = {}\n",
    "        errors_ssim[game] = {}\n",
    "        for agent in agent_types:\n",
    "            pathA = \"./plots/heatmaps/\" + game + \"_avg/\" + \"human\" + \"/\" + \"{}seeds_combined_heatmap.jpg\".format(s)\n",
    "            pathB = \"./plots/heatmaps/\" + game + \"_avg/\" + agent + \"/\" + \"{}seeds_combined_heatmap.jpg\".format(s)\n",
    "\n",
    "            imgA = mpimg.imread(glob.glob(pathA)[0])\n",
    "            imgB = mpimg.imread(glob.glob(pathB)[0])\n",
    "            title = (\"Human vs. \" + agent_titles[agent] + \" (\" + game_titles[game] + \")\" + \"\\n{}\".format(tstr)) if 'shuffled' not in game else (\"Human vs. \" + agent_titles[agent] + \" \\n\" + game_titles[game] + \"\\n{}\".format(tstr))\n",
    "            msee, ssimi = compare_images(imgA, imgB, game_type=game, agent_type=agent,\n",
    "                           title=title, folder_appx='avg', fl100=fl100)\n",
    "            errors_mse[game][agent] = msee\n",
    "            errors_ssim[game][agent] = ssimi\n",
    "\n",
    "    # Normalized\n",
    "    for game in game_types:\n",
    "        norm_errors_mse[game] = {}\n",
    "        norm_errors_ssim[game] = {}\n",
    "        for agent in agent_types:\n",
    "            pathA = \"./plots/heatmaps/\" + game + \"_normalized_avg/\" + \"human\" + \"/\" + \"{}seeds_combined_heatmap.jpg\".format(s)\n",
    "            pathB = \"./plots/heatmaps/\" + game + \"_normalized_avg/\" + agent + \"/\" + \"{}seeds_combined_heatmap.jpg\".format(s)\n",
    "\n",
    "            imgA = mpimg.imread(glob.glob(pathA)[0])\n",
    "            imgB = mpimg.imread(glob.glob(pathB)[0])\n",
    "            title = (\"Human vs. \" + agent_titles[agent] + \" (\" + game_titles[game] + \")\" + \"\\n{}\".format(tstr)) if 'shuffled' not in game else (\"Human vs. \" + agent_titles[agent] + \" \\n\" + game_titles[game] + \"\\n{}\".format(tstr))\n",
    "            msee, ssimi = compare_images(imgA, imgB, game_type=game, agent_type=agent,\n",
    "                           title=title,\n",
    "                           folder_appx='normalized_avg', fl100=fl100)\n",
    "            norm_errors_mse[game][agent] = msee\n",
    "            norm_errors_ssim[game][agent] = ssimi\n",
    "\n",
    "    # Calculate mean errors\n",
    "    for game in game_types:\n",
    "        mean_err_mse = np.array(list(errors_mse[game].values())).mean()\n",
    "        mean_err_ssim = np.array(list(errors_ssim[game].values())).mean()\n",
    "        print(\"Mean MSE error for {} = {} (Not-normalized, {})\".format(game, mean_err_mse, s))\n",
    "        print(\"Mean SSIM error for {} = {} (Not-normalized, {})\".format(game, mean_err_ssim, s))\n",
    "\n",
    "        mean_norm_err_mse = np.array(list(norm_errors_mse[game].values())).mean()\n",
    "        mean_norm_err_ssim = np.array(list(norm_errors_ssim[game].values())).mean()\n",
    "        print(\"Mean MSE error for {} = {} (Normalized, {})\".format(game, mean_norm_err_mse, s))\n",
    "        print(\"Mean SSIM error for {} = {} (Normalized, {})\".format(game, mean_norm_err_ssim, s))\n"
   ]
  },
  {
   "cell_type": "code",
   "execution_count": null,
   "outputs": [],
   "source": [
    "# Compare difference of differences:\n",
    "\n",
    "for fl in [1, 0, -1]: # First Hundred, All, Last Hundred\n",
    "    for game in [\"logic_game\", \"contingency_game\", \"contingency_game_shuffled_1\", \"change_agent_game\"]:\n",
    "        # TODO: Get human data here\n",
    "        for agent in [\"dqn_training\", \"acer_training\", \"a2c_training\", \"trpo_training\", \"ppo2_training\"]:\n",
    "            files = glob.glob(\"./plots/heatmaps/\" + game + \"/\" + \"human\" + \"/\" + \"*.jpg\")\n",
    "            def get_seed_num(x):\n",
    "                return int(x.split(\"_\")[-2])\n",
    "\n",
    "            sorted_files = sorted(files, key=get_seed_num)\n",
    "            mses = []\n",
    "            for i, file in enumerate(sorted_files):\n",
    "                imgA = mpimg.imread(glob.glob(file)[0])\n",
    "                for j in range(i + 1, len(sorted_files)):\n",
    "                    print(\"comparing: {} vs {}\".format(i, j))\n",
    "                    imgB = mpimg.imread(glob.glob(sorted_files[j])[0])\n",
    "                    title = (\"Human {} vs. Human {} -- {}\".format(i, j, game))\n",
    "                    msee, ssimi = compare_images(imgA, imgB, game_type=game, agent_type='human',\n",
    "                               title=title,\n",
    "                               folder_appx='normalized_avg', fl100=0, plot=False)\n",
    "                    mses.append(msee)\n",
    "\n",
    "            print(mses)\n",
    "            print(\"Avg for {} = {}\".format(game, sum(mses)/len(mses)))\n",
    "\n"
   ],
   "metadata": {
    "collapsed": false,
    "pycharm": {
     "name": "#%%\n"
    }
   }
  },
  {
   "cell_type": "code",
   "execution_count": null,
   "outputs": [],
   "source": [],
   "metadata": {
    "collapsed": false,
    "pycharm": {
     "name": "#%%\n"
    }
   }
  }
 ],
 "metadata": {
  "kernelspec": {
   "display_name": "Python 3",
   "language": "python",
   "name": "python3"
  },
  "language_info": {
   "codemirror_mode": {
    "name": "ipython",
    "version": 3
   },
   "file_extension": ".py",
   "mimetype": "text/x-python",
   "name": "python",
   "nbconvert_exporter": "python",
   "pygments_lexer": "ipython3",
   "version": "3.6.12"
  }
 },
 "nbformat": 4,
 "nbformat_minor": 1
}