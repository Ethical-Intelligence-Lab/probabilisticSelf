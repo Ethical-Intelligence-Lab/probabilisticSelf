{
 "cells": [
  {
   "cell_type": "code",
   "execution_count": 13,
   "metadata": {
    "collapsed": true,
    "pycharm": {
     "name": "#%%\n"
    }
   },
   "outputs": [],
   "source": [
    "import matplotlib.pyplot as plt\n",
    "from matplotlib.ticker import NullLocator\n",
    "import numpy as np\n",
    "import glob\n",
    "import pandas as pd\n",
    "import json\n",
    "import os\n",
    "\n",
    "def make_heatmap(game_type, agent_type):\n",
    "    df_r = pd.DataFrame()\n",
    "    files = glob.glob(\"../data/\" + game_type + \"/\" + agent_type + \"/*.json\")\n",
    "    if len(files) == 0:\n",
    "        return False\n",
    "    for file in files:\n",
    "        data = json.load(open(file))\n",
    "        self_locs = data.get(\"data\")[\"self_locs\"]\n",
    "        map = data.get(\"data\")[\"map\"]\n",
    "\n",
    "        level_amt = len( data.get(\"data\")[\"level\"] )\n",
    "        width = len(map[0][0])\n",
    "        height = len(map[0])\n",
    "\n",
    "        state_counts = np.zeros((width+1, height+1))\n",
    "\n",
    "        # read encountered states\n",
    "        for level in range(level_amt):\n",
    "            if len( self_locs[level] ) == 0:\n",
    "                continue\n",
    "            action_amt = len(self_locs[level][0])\n",
    "            for i in range( action_amt ):\n",
    "                x = self_locs[level][0][i]\n",
    "                y = self_locs[level][1][i]\n",
    "                state_counts[x, y] += 1\n",
    "\n",
    "        plt.imshow(state_counts.T, cmap='viridis')\n",
    "        plt.gca().set_axis_off()\n",
    "        plt.subplots_adjust(top = 1, bottom = 0, right = 1, left = 0,\n",
    "            hspace = 0, wspace = 0)\n",
    "        plt.margins(0, 0)\n",
    "        plt.gca().xaxis.set_major_locator(NullLocator())\n",
    "        plt.gca().yaxis.set_major_locator(NullLocator())\n",
    "        base = os.path.basename(file)\n",
    "\n",
    "        path = \"../data/heatmaps/\" + game_type + \"/\" + agent_type + \"/\"\n",
    "        if not os.path.exists(path):\n",
    "            os.makedirs(path)\n",
    "\n",
    "        filename = path + os.path.splitext(base)[0] + '_heatmap.jpg'\n",
    "        plt.savefig(filename, bbox_inches='tight', pad_inches=0)\n",
    "        #plt.close()\n",
    "        return True"
   ]
  },
  {
   "cell_type": "code",
   "execution_count": 10,
   "metadata": {
    "pycharm": {
     "name": "#%%\n"
    }
   },
   "outputs": [
    {
     "data": {
      "text/plain": "<Figure size 432x288 with 1 Axes>",
      "image/png": "[encoded data removed]"
     },
     "metadata": {},
     "output_type": "display_data"
    }
   ],
   "source": [
    "# make heapmap for logic_game with self_class\n",
    "make_heatmap(\"logic_game\", \"self_class\")"
   ]
  },
  {
   "cell_type": "code",
   "execution_count": 4,
   "metadata": {
    "pycharm": {
     "name": "#%%\n"
    }
   },
   "outputs": [
    {
     "data": {
      "text/plain": "<Figure size 432x288 with 1 Axes>",
      "image/png": "[encoded data removed]"
     },
     "metadata": {},
     "output_type": "display_data"
    }
   ],
   "source": [
    "# make heapmap for logic_game with random\n",
    "make_heatmap(\"logic_game\", \"dqn_training\")"
   ]
  },
  {
   "cell_type": "code",
   "execution_count": 83,
   "metadata": {
    "pycharm": {
     "name": "#%%\n"
    }
   },
   "outputs": [
    {
     "data": {
      "image/png": "[encoded data removed]",
      "text/plain": [
       "<Figure size 432x288 with 1 Axes>"
      ]
     },
     "metadata": {},
     "output_type": "display_data"
    }
   ],
   "source": [
    "make_heatmap(\"logic_game\", \"random\")"
   ]
  },
  {
   "cell_type": "code",
   "execution_count": 7,
   "metadata": {
    "pycharm": {
     "name": "#%%\n"
    }
   },
   "outputs": [
    {
     "data": {
      "text/plain": "<Figure size 432x288 with 1 Axes>",
      "image/png": "[encoded data removed]"
     },
     "metadata": {},
     "output_type": "display_data"
    }
   ],
   "source": [
    "make_heatmap(\"contingency_game\", \"human\")"
   ]
  },
  {
   "cell_type": "code",
   "execution_count": 15,
   "metadata": {
    "pycharm": {
     "name": "#%%\n"
    }
   },
   "outputs": [
    {
     "name": "stdout",
     "output_type": "stream",
     "text": [
      "logic_game dqn_training\n",
      "True\n",
      "logic_game human\n",
      "False\n",
      "logic_game random\n",
      "True\n",
      "logic_game self_class\n",
      "True\n",
      "contingency_game dqn_training\n",
      "True\n",
      "contingency_game human\n",
      "True\n",
      "contingency_game random\n",
      "True\n",
      "contingency_game self_class\n",
      "True\n"
     ]
    },
    {
     "data": {
      "text/plain": "<Figure size 432x288 with 1 Axes>",
      "image/png": "[encoded data removed]"
     },
     "metadata": {},
     "output_type": "display_data"
    }
   ],
   "source": [
    "# make heatmap for all game types and agent types\n",
    "game_types = (\"logic_game\", \"contingency_game\") #shuffle_keys\n",
    "agent_types = (\"dqn_training\", \"human\", \"random\", \"self_class\")\n",
    "\n",
    "for game in game_types:\n",
    "    for agent in agent_types:\n",
    "        make_heatmap(game, agent)\n"
   ]
  }
 ],
 "metadata": {
  "kernelspec": {
   "display_name": "Python 3",
   "language": "python",
   "name": "python3"
  },
  "language_info": {
   "codemirror_mode": {
    "name": "ipython",
    "version": 3
   },
   "file_extension": ".py",
   "mimetype": "text/x-python",
   "name": "python",
   "nbconvert_exporter": "python",
   "pygments_lexer": "ipython3",
   "version": "3.6.12"
  }
 },
 "nbformat": 4,
 "nbformat_minor": 1
}